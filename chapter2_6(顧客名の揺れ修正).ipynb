{
 "cells": [
  {
   "cell_type": "code",
   "execution_count": 1,
   "metadata": {},
   "outputs": [],
   "source": [
    "import pandas as pd"
   ]
  },
  {
   "cell_type": "code",
   "execution_count": 2,
   "metadata": {},
   "outputs": [
    {
     "data": {
      "text/html": [
       "<div>\n",
       "<style scoped>\n",
       "    .dataframe tbody tr th:only-of-type {\n",
       "        vertical-align: middle;\n",
       "    }\n",
       "\n",
       "    .dataframe tbody tr th {\n",
       "        vertical-align: top;\n",
       "    }\n",
       "\n",
       "    .dataframe thead th {\n",
       "        text-align: right;\n",
       "    }\n",
       "</style>\n",
       "<table border=\"1\" class=\"dataframe\">\n",
       "  <thead>\n",
       "    <tr style=\"text-align: right;\">\n",
       "      <th></th>\n",
       "      <th>purchase_date</th>\n",
       "      <th>item_name</th>\n",
       "      <th>item_price</th>\n",
       "      <th>customer_name</th>\n",
       "    </tr>\n",
       "  </thead>\n",
       "  <tbody>\n",
       "    <tr>\n",
       "      <td>0</td>\n",
       "      <td>2019-06-13 18:02:34</td>\n",
       "      <td>商品A</td>\n",
       "      <td>100.0</td>\n",
       "      <td>深井菜々美</td>\n",
       "    </tr>\n",
       "    <tr>\n",
       "      <td>1</td>\n",
       "      <td>2019-07-13 13:05:29</td>\n",
       "      <td>商 品 S</td>\n",
       "      <td>NaN</td>\n",
       "      <td>浅田賢二</td>\n",
       "    </tr>\n",
       "    <tr>\n",
       "      <td>2</td>\n",
       "      <td>2019-05-11 19:42:07</td>\n",
       "      <td>商 品 a</td>\n",
       "      <td>NaN</td>\n",
       "      <td>南部慶二</td>\n",
       "    </tr>\n",
       "  </tbody>\n",
       "</table>\n",
       "</div>"
      ],
      "text/plain": [
       "         purchase_date item_name  item_price customer_name\n",
       "0  2019-06-13 18:02:34       商品A       100.0         深井菜々美\n",
       "1  2019-07-13 13:05:29     商 品 S         NaN          浅田賢二\n",
       "2  2019-05-11 19:42:07     商 品 a         NaN          南部慶二"
      ]
     },
     "metadata": {},
     "output_type": "display_data"
    },
    {
     "data": {
      "text/html": [
       "<div>\n",
       "<style scoped>\n",
       "    .dataframe tbody tr th:only-of-type {\n",
       "        vertical-align: middle;\n",
       "    }\n",
       "\n",
       "    .dataframe tbody tr th {\n",
       "        vertical-align: top;\n",
       "    }\n",
       "\n",
       "    .dataframe thead th {\n",
       "        text-align: right;\n",
       "    }\n",
       "</style>\n",
       "<table border=\"1\" class=\"dataframe\">\n",
       "  <thead>\n",
       "    <tr style=\"text-align: right;\">\n",
       "      <th></th>\n",
       "      <th>顧客名</th>\n",
       "      <th>かな</th>\n",
       "      <th>地域</th>\n",
       "      <th>メールアドレス</th>\n",
       "      <th>登録日</th>\n",
       "    </tr>\n",
       "  </thead>\n",
       "  <tbody>\n",
       "    <tr>\n",
       "      <td>0</td>\n",
       "      <td>須賀ひとみ</td>\n",
       "      <td>すが ひとみ</td>\n",
       "      <td>H市</td>\n",
       "      <td>suga_hitomi@example.com</td>\n",
       "      <td>2018/01/04</td>\n",
       "    </tr>\n",
       "    <tr>\n",
       "      <td>1</td>\n",
       "      <td>岡田　 敏也</td>\n",
       "      <td>おかだ としや</td>\n",
       "      <td>E市</td>\n",
       "      <td>okada_toshiya@example.com</td>\n",
       "      <td>42782</td>\n",
       "    </tr>\n",
       "    <tr>\n",
       "      <td>2</td>\n",
       "      <td>芳賀 希</td>\n",
       "      <td>はが のぞみ</td>\n",
       "      <td>A市</td>\n",
       "      <td>haga_nozomi@example.com</td>\n",
       "      <td>2018/01/07</td>\n",
       "    </tr>\n",
       "  </tbody>\n",
       "</table>\n",
       "</div>"
      ],
      "text/plain": [
       "      顧客名       かな  地域                    メールアドレス         登録日\n",
       "0   須賀ひとみ   すが ひとみ  H市    suga_hitomi@example.com  2018/01/04\n",
       "1  岡田　 敏也  おかだ としや  E市  okada_toshiya@example.com       42782\n",
       "2    芳賀 希   はが のぞみ  A市    haga_nozomi@example.com  2018/01/07"
      ]
     },
     "metadata": {},
     "output_type": "display_data"
    }
   ],
   "source": [
    "uriage_data = pd.read_csv(f\"./chapter2_data/uriage.csv\")\n",
    "kokyaku_data = pd.read_excel(f\"./chapter2_data/kokyaku_daicho.xlsx\")\n",
    "display(uriage_data.head(3))\n",
    "display(kokyaku_data.head(3))"
   ]
  },
  {
   "cell_type": "code",
   "execution_count": 3,
   "metadata": {},
   "outputs": [
    {
     "data": {
      "text/plain": [
       "purchase_date      0\n",
       "item_name          0\n",
       "item_price       387\n",
       "customer_name      0\n",
       "dtype: int64"
      ]
     },
     "metadata": {},
     "output_type": "display_data"
    },
    {
     "data": {
      "text/html": [
       "<div>\n",
       "<style scoped>\n",
       "    .dataframe tbody tr th:only-of-type {\n",
       "        vertical-align: middle;\n",
       "    }\n",
       "\n",
       "    .dataframe tbody tr th {\n",
       "        vertical-align: top;\n",
       "    }\n",
       "\n",
       "    .dataframe thead th {\n",
       "        text-align: right;\n",
       "    }\n",
       "</style>\n",
       "<table border=\"1\" class=\"dataframe\">\n",
       "  <thead>\n",
       "    <tr style=\"text-align: right;\">\n",
       "      <th></th>\n",
       "      <th>count</th>\n",
       "      <th>unique</th>\n",
       "      <th>top</th>\n",
       "      <th>freq</th>\n",
       "      <th>mean</th>\n",
       "      <th>std</th>\n",
       "      <th>min</th>\n",
       "      <th>25%</th>\n",
       "      <th>50%</th>\n",
       "      <th>75%</th>\n",
       "      <th>max</th>\n",
       "    </tr>\n",
       "  </thead>\n",
       "  <tbody>\n",
       "    <tr>\n",
       "      <td>purchase_date</td>\n",
       "      <td>2999</td>\n",
       "      <td>2999</td>\n",
       "      <td>2019-03-23 07:25:13</td>\n",
       "      <td>1</td>\n",
       "      <td>NaN</td>\n",
       "      <td>NaN</td>\n",
       "      <td>NaN</td>\n",
       "      <td>NaN</td>\n",
       "      <td>NaN</td>\n",
       "      <td>NaN</td>\n",
       "      <td>NaN</td>\n",
       "    </tr>\n",
       "    <tr>\n",
       "      <td>item_name</td>\n",
       "      <td>2999</td>\n",
       "      <td>99</td>\n",
       "      <td>商品S</td>\n",
       "      <td>133</td>\n",
       "      <td>NaN</td>\n",
       "      <td>NaN</td>\n",
       "      <td>NaN</td>\n",
       "      <td>NaN</td>\n",
       "      <td>NaN</td>\n",
       "      <td>NaN</td>\n",
       "      <td>NaN</td>\n",
       "    </tr>\n",
       "    <tr>\n",
       "      <td>item_price</td>\n",
       "      <td>2612</td>\n",
       "      <td>NaN</td>\n",
       "      <td>NaN</td>\n",
       "      <td>NaN</td>\n",
       "      <td>1296.4</td>\n",
       "      <td>717.955</td>\n",
       "      <td>100</td>\n",
       "      <td>700</td>\n",
       "      <td>1300</td>\n",
       "      <td>1900</td>\n",
       "      <td>2600</td>\n",
       "    </tr>\n",
       "    <tr>\n",
       "      <td>customer_name</td>\n",
       "      <td>2999</td>\n",
       "      <td>199</td>\n",
       "      <td>矢部美幸</td>\n",
       "      <td>26</td>\n",
       "      <td>NaN</td>\n",
       "      <td>NaN</td>\n",
       "      <td>NaN</td>\n",
       "      <td>NaN</td>\n",
       "      <td>NaN</td>\n",
       "      <td>NaN</td>\n",
       "      <td>NaN</td>\n",
       "    </tr>\n",
       "  </tbody>\n",
       "</table>\n",
       "</div>"
      ],
      "text/plain": [
       "              count unique                  top freq    mean      std  min  \\\n",
       "purchase_date  2999   2999  2019-03-23 07:25:13    1     NaN      NaN  NaN   \n",
       "item_name      2999     99                  商品S  133     NaN      NaN  NaN   \n",
       "item_price     2612    NaN                  NaN  NaN  1296.4  717.955  100   \n",
       "customer_name  2999    199                 矢部美幸   26     NaN      NaN  NaN   \n",
       "\n",
       "               25%   50%   75%   max  \n",
       "purchase_date  NaN   NaN   NaN   NaN  \n",
       "item_name      NaN   NaN   NaN   NaN  \n",
       "item_price     700  1300  1900  2600  \n",
       "customer_name  NaN   NaN   NaN   NaN  "
      ]
     },
     "metadata": {},
     "output_type": "display_data"
    },
    {
     "data": {
      "text/plain": [
       "顧客名        0\n",
       "かな         0\n",
       "地域         0\n",
       "メールアドレス    0\n",
       "登録日        0\n",
       "dtype: int64"
      ]
     },
     "metadata": {},
     "output_type": "display_data"
    },
    {
     "data": {
      "text/html": [
       "<div>\n",
       "<style scoped>\n",
       "    .dataframe tbody tr th:only-of-type {\n",
       "        vertical-align: middle;\n",
       "    }\n",
       "\n",
       "    .dataframe tbody tr th {\n",
       "        vertical-align: top;\n",
       "    }\n",
       "\n",
       "    .dataframe thead th {\n",
       "        text-align: right;\n",
       "    }\n",
       "</style>\n",
       "<table border=\"1\" class=\"dataframe\">\n",
       "  <thead>\n",
       "    <tr style=\"text-align: right;\">\n",
       "      <th></th>\n",
       "      <th>count</th>\n",
       "      <th>unique</th>\n",
       "      <th>top</th>\n",
       "      <th>freq</th>\n",
       "    </tr>\n",
       "  </thead>\n",
       "  <tbody>\n",
       "    <tr>\n",
       "      <td>顧客名</td>\n",
       "      <td>200</td>\n",
       "      <td>200</td>\n",
       "      <td>菅原 誠治</td>\n",
       "      <td>1</td>\n",
       "    </tr>\n",
       "    <tr>\n",
       "      <td>かな</td>\n",
       "      <td>200</td>\n",
       "      <td>200</td>\n",
       "      <td>なか ひろあき</td>\n",
       "      <td>1</td>\n",
       "    </tr>\n",
       "    <tr>\n",
       "      <td>地域</td>\n",
       "      <td>200</td>\n",
       "      <td>8</td>\n",
       "      <td>A市</td>\n",
       "      <td>31</td>\n",
       "    </tr>\n",
       "    <tr>\n",
       "      <td>メールアドレス</td>\n",
       "      <td>200</td>\n",
       "      <td>200</td>\n",
       "      <td>tabata_masatoshi@example.com</td>\n",
       "      <td>1</td>\n",
       "    </tr>\n",
       "    <tr>\n",
       "      <td>登録日</td>\n",
       "      <td>200</td>\n",
       "      <td>174</td>\n",
       "      <td>2017/01/30</td>\n",
       "      <td>4</td>\n",
       "    </tr>\n",
       "  </tbody>\n",
       "</table>\n",
       "</div>"
      ],
      "text/plain": [
       "        count unique                           top freq\n",
       "顧客名       200    200                         菅原 誠治    1\n",
       "かな        200    200                       なか ひろあき    1\n",
       "地域        200      8                            A市   31\n",
       "メールアドレス   200    200  tabata_masatoshi@example.com    1\n",
       "登録日       200    174                    2017/01/30    4"
      ]
     },
     "metadata": {},
     "output_type": "display_data"
    }
   ],
   "source": [
    "display(uriage_data.isnull().sum())\n",
    "display(uriage_data.describe(include=\"all\").T)\n",
    "display(kokyaku_data.isnull().sum())\n",
    "display(kokyaku_data.describe(include=\"all\").T)"
   ]
  },
  {
   "cell_type": "code",
   "execution_count": null,
   "metadata": {},
   "outputs": [],
   "source": []
  },
  {
   "cell_type": "code",
   "execution_count": 4,
   "metadata": {},
   "outputs": [],
   "source": [
    "# ノック14：商品名の揺れを補正しよう"
   ]
  },
  {
   "cell_type": "code",
   "execution_count": 5,
   "metadata": {},
   "outputs": [
    {
     "data": {
      "text/plain": [
       "array(['商品A', '商 品 S', '商 品 a', '商品Z', '商品a', '商品S', '商品 a', '商品V', '商品O',\n",
       "       '商 品U', '商品L', '商  品V', '商 品O', '商品C', '商品I', '商品r', '商品X', '商品 g',\n",
       "       '商品R', '商品P', '商品Q', '商品y', '商品 A', '商品N', '商品W', '商 品E', '商品K',\n",
       "       '商品B', '商品F', '商 品s', '  商品W', ' 商 品 n', '商 品F', '商品D', '商品M',\n",
       "       '商品Y', '商品U', '商品H', '商品T', '商品J', '商  品O', '商品E', '商  品Q', ' 商品S',\n",
       "       ' 商品M', '商  品T', '商品G', '商 品G', ' 商品P', ' 商品E', '商 品N', '商 品Y',\n",
       "       '商品 J', '商品 V', '商品 K', '商 品V', '商 品D', '商 品A', '商品 F', '商品 H',\n",
       "       '商 品K', '商 品T', '商品 X', '商品 Q', '商 品X', '商 品H', '商 品C', '商品 B',\n",
       "       '商品 O', '商品 T', '商品v', '商品p', '商品i', '商品 w', '商 品 s', '商 品 q',\n",
       "       '商品s', '商品l', '商品t', '商品k', '商品g', '商品o', '商品 R', '商品 S', '商 品M',\n",
       "       '商品j', '商品d', '商品 I', '商品 E', '商品 o', '商品c', '商品 v', '商品e', '商品x',\n",
       "       '商 品I', ' 商品W', ' 商品X', '商品 M', '商 品P'], dtype=object)"
      ]
     },
     "metadata": {},
     "output_type": "display_data"
    },
    {
     "data": {
      "text/plain": [
       "99"
      ]
     },
     "metadata": {},
     "output_type": "display_data"
    }
   ],
   "source": [
    "display( pd.unique(uriage_data[\"item_name\"]) )\n",
    "display( len(pd.unique(uriage_data[\"item_name\"])) )\n",
    "#pd.set_option(\"display.max_row\",100)\n",
    "#uriage_data[\"item_name\"].value_counts()"
   ]
  },
  {
   "cell_type": "code",
   "execution_count": null,
   "metadata": {},
   "outputs": [],
   "source": []
  },
  {
   "cell_type": "code",
   "execution_count": 6,
   "metadata": {},
   "outputs": [],
   "source": [
    "# 修正\n",
    "uriage_data[\"item_name\"] = uriage_data[\"item_name\"].str.upper()\n",
    "uriage_data[\"item_name\"] = uriage_data[\"item_name\"].str.replace(\" \", \"\")\n",
    "uriage_data[\"item_name\"] = uriage_data[\"item_name\"].str.replace(\"　\", \"\")"
   ]
  },
  {
   "cell_type": "code",
   "execution_count": 7,
   "metadata": {},
   "outputs": [
    {
     "data": {
      "text/html": [
       "<div>\n",
       "<style scoped>\n",
       "    .dataframe tbody tr th:only-of-type {\n",
       "        vertical-align: middle;\n",
       "    }\n",
       "\n",
       "    .dataframe tbody tr th {\n",
       "        vertical-align: top;\n",
       "    }\n",
       "\n",
       "    .dataframe thead th {\n",
       "        text-align: right;\n",
       "    }\n",
       "</style>\n",
       "<table border=\"1\" class=\"dataframe\">\n",
       "  <thead>\n",
       "    <tr style=\"text-align: right;\">\n",
       "      <th></th>\n",
       "      <th>purchase_date</th>\n",
       "      <th>item_name</th>\n",
       "      <th>item_price</th>\n",
       "      <th>customer_name</th>\n",
       "    </tr>\n",
       "  </thead>\n",
       "  <tbody>\n",
       "    <tr>\n",
       "      <td>0</td>\n",
       "      <td>2019-06-13 18:02:34</td>\n",
       "      <td>商品A</td>\n",
       "      <td>100.0</td>\n",
       "      <td>深井菜々美</td>\n",
       "    </tr>\n",
       "    <tr>\n",
       "      <td>1748</td>\n",
       "      <td>2019-05-19 20:22:22</td>\n",
       "      <td>商品A</td>\n",
       "      <td>100.0</td>\n",
       "      <td>松川綾女</td>\n",
       "    </tr>\n",
       "    <tr>\n",
       "      <td>223</td>\n",
       "      <td>2019-06-25 08:13:20</td>\n",
       "      <td>商品A</td>\n",
       "      <td>100.0</td>\n",
       "      <td>板橋隆</td>\n",
       "    </tr>\n",
       "    <tr>\n",
       "      <td>1742</td>\n",
       "      <td>2019-06-13 16:03:17</td>\n",
       "      <td>商品A</td>\n",
       "      <td>100.0</td>\n",
       "      <td>小平陽子</td>\n",
       "    </tr>\n",
       "    <tr>\n",
       "      <td>1738</td>\n",
       "      <td>2019-02-10 00:28:43</td>\n",
       "      <td>商品A</td>\n",
       "      <td>100.0</td>\n",
       "      <td>松田浩正</td>\n",
       "    </tr>\n",
       "    <tr>\n",
       "      <td>...</td>\n",
       "      <td>...</td>\n",
       "      <td>...</td>\n",
       "      <td>...</td>\n",
       "      <td>...</td>\n",
       "    </tr>\n",
       "    <tr>\n",
       "      <td>2880</td>\n",
       "      <td>2019-04-22 00:36:52</td>\n",
       "      <td>商品Y</td>\n",
       "      <td>NaN</td>\n",
       "      <td>田辺光洋</td>\n",
       "    </tr>\n",
       "    <tr>\n",
       "      <td>2881</td>\n",
       "      <td>2019-04-30 14:21:09</td>\n",
       "      <td>商品Y</td>\n",
       "      <td>NaN</td>\n",
       "      <td>高原充則</td>\n",
       "    </tr>\n",
       "    <tr>\n",
       "      <td>1525</td>\n",
       "      <td>2019-01-24 10:27:23</td>\n",
       "      <td>商品Y</td>\n",
       "      <td>2500.0</td>\n",
       "      <td>五十嵐春樹</td>\n",
       "    </tr>\n",
       "    <tr>\n",
       "      <td>1361</td>\n",
       "      <td>2019-05-28 13:45:32</td>\n",
       "      <td>商品Y</td>\n",
       "      <td>2500.0</td>\n",
       "      <td>大崎ヒカル</td>\n",
       "    </tr>\n",
       "    <tr>\n",
       "      <td>3</td>\n",
       "      <td>2019-02-12 23:40:45</td>\n",
       "      <td>商品Z</td>\n",
       "      <td>2600.0</td>\n",
       "      <td>麻生莉緒</td>\n",
       "    </tr>\n",
       "  </tbody>\n",
       "</table>\n",
       "<p>2999 rows × 4 columns</p>\n",
       "</div>"
      ],
      "text/plain": [
       "            purchase_date item_name  item_price customer_name\n",
       "0     2019-06-13 18:02:34       商品A       100.0         深井菜々美\n",
       "1748  2019-05-19 20:22:22       商品A       100.0          松川綾女\n",
       "223   2019-06-25 08:13:20       商品A       100.0           板橋隆\n",
       "1742  2019-06-13 16:03:17       商品A       100.0          小平陽子\n",
       "1738  2019-02-10 00:28:43       商品A       100.0          松田浩正\n",
       "...                   ...       ...         ...           ...\n",
       "2880  2019-04-22 00:36:52       商品Y         NaN          田辺光洋\n",
       "2881  2019-04-30 14:21:09       商品Y         NaN          高原充則\n",
       "1525  2019-01-24 10:27:23       商品Y      2500.0         五十嵐春樹\n",
       "1361  2019-05-28 13:45:32       商品Y      2500.0         大崎ヒカル\n",
       "3     2019-02-12 23:40:45       商品Z      2600.0          麻生莉緒\n",
       "\n",
       "[2999 rows x 4 columns]"
      ]
     },
     "execution_count": 7,
     "metadata": {},
     "output_type": "execute_result"
    }
   ],
   "source": [
    "uriage_data.sort_values([\"item_name\"], ascending=True)"
   ]
  },
  {
   "cell_type": "code",
   "execution_count": 8,
   "metadata": {},
   "outputs": [
    {
     "data": {
      "text/plain": [
       "array(['商品A', '商品S', '商品Z', '商品V', '商品O', '商品U', '商品L', '商品C', '商品I',\n",
       "       '商品R', '商品X', '商品G', '商品P', '商品Q', '商品Y', '商品N', '商品W', '商品E',\n",
       "       '商品K', '商品B', '商品F', '商品D', '商品M', '商品H', '商品T', '商品J'],\n",
       "      dtype=object)"
      ]
     },
     "metadata": {},
     "output_type": "display_data"
    },
    {
     "data": {
      "text/plain": [
       "26"
      ]
     },
     "metadata": {},
     "output_type": "display_data"
    }
   ],
   "source": [
    "display( pd.unique(uriage_data[\"item_name\"]) )\n",
    "display( len(pd.unique(uriage_data[\"item_name\"])) )"
   ]
  },
  {
   "cell_type": "code",
   "execution_count": null,
   "metadata": {},
   "outputs": [],
   "source": []
  },
  {
   "cell_type": "code",
   "execution_count": 9,
   "metadata": {},
   "outputs": [],
   "source": [
    "# ノック15 金額欠損の補完をしよう"
   ]
  },
  {
   "cell_type": "code",
   "execution_count": 10,
   "metadata": {},
   "outputs": [
    {
     "data": {
      "text/plain": [
       "purchase_date    False\n",
       "item_name        False\n",
       "item_price        True\n",
       "customer_name    False\n",
       "dtype: bool"
      ]
     },
     "execution_count": 10,
     "metadata": {},
     "output_type": "execute_result"
    }
   ],
   "source": [
    "# item_price にnullがある\n",
    "uriage_data.isnull().any(axis=0)"
   ]
  },
  {
   "cell_type": "code",
   "execution_count": 11,
   "metadata": {},
   "outputs": [
    {
     "data": {
      "text/plain": [
       "387"
      ]
     },
     "execution_count": 11,
     "metadata": {},
     "output_type": "execute_result"
    }
   ],
   "source": [
    "uriage_data[\"item_price\"].isnull().sum()"
   ]
  },
  {
   "cell_type": "code",
   "execution_count": 12,
   "metadata": {},
   "outputs": [
    {
     "data": {
      "text/html": [
       "<div>\n",
       "<style scoped>\n",
       "    .dataframe tbody tr th:only-of-type {\n",
       "        vertical-align: middle;\n",
       "    }\n",
       "\n",
       "    .dataframe tbody tr th {\n",
       "        vertical-align: top;\n",
       "    }\n",
       "\n",
       "    .dataframe thead th {\n",
       "        text-align: right;\n",
       "    }\n",
       "</style>\n",
       "<table border=\"1\" class=\"dataframe\">\n",
       "  <thead>\n",
       "    <tr style=\"text-align: right;\">\n",
       "      <th></th>\n",
       "      <th>item_name</th>\n",
       "      <th>item_price</th>\n",
       "    </tr>\n",
       "  </thead>\n",
       "  <tbody>\n",
       "    <tr>\n",
       "      <td>0</td>\n",
       "      <td>商品A</td>\n",
       "      <td>100.0</td>\n",
       "    </tr>\n",
       "    <tr>\n",
       "      <td>1748</td>\n",
       "      <td>商品A</td>\n",
       "      <td>100.0</td>\n",
       "    </tr>\n",
       "    <tr>\n",
       "      <td>223</td>\n",
       "      <td>商品A</td>\n",
       "      <td>100.0</td>\n",
       "    </tr>\n",
       "    <tr>\n",
       "      <td>1742</td>\n",
       "      <td>商品A</td>\n",
       "      <td>100.0</td>\n",
       "    </tr>\n",
       "    <tr>\n",
       "      <td>1738</td>\n",
       "      <td>商品A</td>\n",
       "      <td>100.0</td>\n",
       "    </tr>\n",
       "    <tr>\n",
       "      <td>...</td>\n",
       "      <td>...</td>\n",
       "      <td>...</td>\n",
       "    </tr>\n",
       "    <tr>\n",
       "      <td>2880</td>\n",
       "      <td>商品Y</td>\n",
       "      <td>NaN</td>\n",
       "    </tr>\n",
       "    <tr>\n",
       "      <td>2881</td>\n",
       "      <td>商品Y</td>\n",
       "      <td>NaN</td>\n",
       "    </tr>\n",
       "    <tr>\n",
       "      <td>1525</td>\n",
       "      <td>商品Y</td>\n",
       "      <td>2500.0</td>\n",
       "    </tr>\n",
       "    <tr>\n",
       "      <td>1361</td>\n",
       "      <td>商品Y</td>\n",
       "      <td>2500.0</td>\n",
       "    </tr>\n",
       "    <tr>\n",
       "      <td>3</td>\n",
       "      <td>商品Z</td>\n",
       "      <td>2600.0</td>\n",
       "    </tr>\n",
       "  </tbody>\n",
       "</table>\n",
       "<p>2999 rows × 2 columns</p>\n",
       "</div>"
      ],
      "text/plain": [
       "     item_name  item_price\n",
       "0          商品A       100.0\n",
       "1748       商品A       100.0\n",
       "223        商品A       100.0\n",
       "1742       商品A       100.0\n",
       "1738       商品A       100.0\n",
       "...        ...         ...\n",
       "2880       商品Y         NaN\n",
       "2881       商品Y         NaN\n",
       "1525       商品Y      2500.0\n",
       "1361       商品Y      2500.0\n",
       "3          商品Z      2600.0\n",
       "\n",
       "[2999 rows x 2 columns]"
      ]
     },
     "execution_count": 12,
     "metadata": {},
     "output_type": "execute_result"
    }
   ],
   "source": [
    "# 同じ商品は常に同一価格なので\n",
    "# 同じ商品から補完する\n",
    "# テキストとやり方はちがうけどいいや\n",
    "uriage_data[[\"item_name\", \"item_price\"]].sort_values(by=\"item_name\")"
   ]
  },
  {
   "cell_type": "code",
   "execution_count": 13,
   "metadata": {},
   "outputs": [
    {
     "name": "stdout",
     "output_type": "stream",
     "text": [
      "商品A 100.0\n",
      "商品B 200.0\n",
      "商品C 300.0\n",
      "商品D 400.0\n",
      "商品E 500.0\n",
      "商品F 600.0\n",
      "商品G 700.0\n",
      "商品H 800.0\n",
      "商品I 900.0\n",
      "商品J 1000.0\n",
      "商品K 1100.0\n",
      "商品L 1200.0\n",
      "商品M 1300.0\n",
      "商品N 1400.0\n",
      "商品O 1500.0\n",
      "商品P 1600.0\n",
      "商品Q 1700.0\n",
      "商品R 1800.0\n",
      "商品S 1900.0\n",
      "商品T 2000.0\n",
      "商品U 2100.0\n",
      "商品V 2200.0\n",
      "商品W 2300.0\n",
      "商品X 2400.0\n",
      "商品Y 2500.0\n",
      "商品Z 2600.0\n"
     ]
    }
   ],
   "source": [
    "price_map ={} \n",
    "for name in uriage_data[\"item_name\"].sort_values().unique():\n",
    "    for price in list(uriage_data[uriage_data[\"item_name\"] == name][\"item_price\"].value_counts().index):\n",
    "        print(name,price)\n",
    "        price_map[name] = price"
   ]
  },
  {
   "cell_type": "code",
   "execution_count": null,
   "metadata": {},
   "outputs": [],
   "source": []
  },
  {
   "cell_type": "code",
   "execution_count": 14,
   "metadata": {},
   "outputs": [],
   "source": [
    "def retPrice(key):\n",
    "    return price_map[key]"
   ]
  },
  {
   "cell_type": "code",
   "execution_count": 15,
   "metadata": {},
   "outputs": [],
   "source": [
    "# チェックしたいので別カラム名で入れて\n",
    "uriage_data[\"item_price_\"] = uriage_data[\"item_name\"].apply(retPrice)"
   ]
  },
  {
   "cell_type": "code",
   "execution_count": 16,
   "metadata": {},
   "outputs": [
    {
     "data": {
      "text/plain": [
       "NaN    387\n",
       "Name: item_price, dtype: int64"
      ]
     },
     "execution_count": 16,
     "metadata": {},
     "output_type": "execute_result"
    }
   ],
   "source": [
    "# チェック\n",
    "# 埋めたのと元の値で一致しないのは、元の値がnullのレコードのみ\n",
    "#uriage_data[ uriage_data[\"item_price\"] != uriage_data[\"item_price_\"] ][[\"item_name\", \"item_name\", \"item_price\", \"item_price_\"]]\n",
    "uriage_data[ uriage_data[\"item_price\"] != uriage_data[\"item_price_\"] ][\"item_price\"].value_counts(dropna=False)"
   ]
  },
  {
   "cell_type": "code",
   "execution_count": 17,
   "metadata": {},
   "outputs": [],
   "source": [
    "uriage_data[\"item_price\"] =  uriage_data[\"item_price_\"]"
   ]
  },
  {
   "cell_type": "code",
   "execution_count": 18,
   "metadata": {},
   "outputs": [
    {
     "data": {
      "text/plain": [
       "0"
      ]
     },
     "execution_count": 18,
     "metadata": {},
     "output_type": "execute_result"
    }
   ],
   "source": [
    "uriage_data[\"item_price\"].isnull().sum()"
   ]
  },
  {
   "cell_type": "code",
   "execution_count": 19,
   "metadata": {},
   "outputs": [],
   "source": [
    "uriage_data = uriage_data.drop([\"item_price_\"], axis=1,)"
   ]
  },
  {
   "cell_type": "code",
   "execution_count": 20,
   "metadata": {},
   "outputs": [
    {
     "name": "stdout",
     "output_type": "stream",
     "text": [
      "商品A min= 100.0 max= 100.0 一致する？ True\n",
      "商品B min= 200.0 max= 200.0 一致する？ True\n",
      "商品C min= 300.0 max= 300.0 一致する？ True\n",
      "商品D min= 400.0 max= 400.0 一致する？ True\n",
      "商品E min= 500.0 max= 500.0 一致する？ True\n",
      "商品F min= 600.0 max= 600.0 一致する？ True\n",
      "商品G min= 700.0 max= 700.0 一致する？ True\n",
      "商品H min= 800.0 max= 800.0 一致する？ True\n",
      "商品I min= 900.0 max= 900.0 一致する？ True\n",
      "商品J min= 1000.0 max= 1000.0 一致する？ True\n",
      "商品K min= 1100.0 max= 1100.0 一致する？ True\n",
      "商品L min= 1200.0 max= 1200.0 一致する？ True\n",
      "商品M min= 1300.0 max= 1300.0 一致する？ True\n",
      "商品N min= 1400.0 max= 1400.0 一致する？ True\n",
      "商品O min= 1500.0 max= 1500.0 一致する？ True\n",
      "商品P min= 1600.0 max= 1600.0 一致する？ True\n",
      "商品Q min= 1700.0 max= 1700.0 一致する？ True\n",
      "商品R min= 1800.0 max= 1800.0 一致する？ True\n",
      "商品S min= 1900.0 max= 1900.0 一致する？ True\n",
      "商品T min= 2000.0 max= 2000.0 一致する？ True\n",
      "商品U min= 2100.0 max= 2100.0 一致する？ True\n",
      "商品V min= 2200.0 max= 2200.0 一致する？ True\n",
      "商品W min= 2300.0 max= 2300.0 一致する？ True\n",
      "商品X min= 2400.0 max= 2400.0 一致する？ True\n",
      "商品Y min= 2500.0 max= 2500.0 一致する？ True\n",
      "商品Z min= 2600.0 max= 2600.0 一致する？ True\n"
     ]
    }
   ],
   "source": [
    "# さいごにチェック\n",
    "for name in uriage_data[\"item_name\"].sort_values().unique():\n",
    "    pricemin = uriage_data[uriage_data[\"item_name\"] == name] [\"item_price\"].min()\n",
    "    pricemax = uriage_data[uriage_data[\"item_name\"] == name] [\"item_price\"].max()\n",
    "    print(name, \"min=\", pricemin,  \"max=\", pricemax, \"一致する？\",  pricemin==pricemax)"
   ]
  },
  {
   "cell_type": "code",
   "execution_count": null,
   "metadata": {},
   "outputs": [],
   "source": []
  },
  {
   "cell_type": "code",
   "execution_count": 21,
   "metadata": {},
   "outputs": [],
   "source": [
    "# ノック16　顧客名の揺れを修正しよう"
   ]
  },
  {
   "cell_type": "code",
   "execution_count": 24,
   "metadata": {},
   "outputs": [
    {
     "data": {
      "text/html": [
       "<div>\n",
       "<style scoped>\n",
       "    .dataframe tbody tr th:only-of-type {\n",
       "        vertical-align: middle;\n",
       "    }\n",
       "\n",
       "    .dataframe tbody tr th {\n",
       "        vertical-align: top;\n",
       "    }\n",
       "\n",
       "    .dataframe thead th {\n",
       "        text-align: right;\n",
       "    }\n",
       "</style>\n",
       "<table border=\"1\" class=\"dataframe\">\n",
       "  <thead>\n",
       "    <tr style=\"text-align: right;\">\n",
       "      <th></th>\n",
       "      <th>顧客名</th>\n",
       "      <th>かな</th>\n",
       "      <th>地域</th>\n",
       "      <th>メールアドレス</th>\n",
       "      <th>登録日</th>\n",
       "    </tr>\n",
       "  </thead>\n",
       "  <tbody>\n",
       "    <tr>\n",
       "      <td>0</td>\n",
       "      <td>須賀ひとみ</td>\n",
       "      <td>すが ひとみ</td>\n",
       "      <td>H市</td>\n",
       "      <td>suga_hitomi@example.com</td>\n",
       "      <td>2018/01/04</td>\n",
       "    </tr>\n",
       "    <tr>\n",
       "      <td>1</td>\n",
       "      <td>岡田　 敏也</td>\n",
       "      <td>おかだ としや</td>\n",
       "      <td>E市</td>\n",
       "      <td>okada_toshiya@example.com</td>\n",
       "      <td>42782</td>\n",
       "    </tr>\n",
       "    <tr>\n",
       "      <td>2</td>\n",
       "      <td>芳賀 希</td>\n",
       "      <td>はが のぞみ</td>\n",
       "      <td>A市</td>\n",
       "      <td>haga_nozomi@example.com</td>\n",
       "      <td>2018/01/07</td>\n",
       "    </tr>\n",
       "  </tbody>\n",
       "</table>\n",
       "</div>"
      ],
      "text/plain": [
       "      顧客名       かな  地域                    メールアドレス         登録日\n",
       "0   須賀ひとみ   すが ひとみ  H市    suga_hitomi@example.com  2018/01/04\n",
       "1  岡田　 敏也  おかだ としや  E市  okada_toshiya@example.com       42782\n",
       "2    芳賀 希   はが のぞみ  A市    haga_nozomi@example.com  2018/01/07"
      ]
     },
     "metadata": {},
     "output_type": "display_data"
    },
    {
     "data": {
      "text/html": [
       "<div>\n",
       "<style scoped>\n",
       "    .dataframe tbody tr th:only-of-type {\n",
       "        vertical-align: middle;\n",
       "    }\n",
       "\n",
       "    .dataframe tbody tr th {\n",
       "        vertical-align: top;\n",
       "    }\n",
       "\n",
       "    .dataframe thead th {\n",
       "        text-align: right;\n",
       "    }\n",
       "</style>\n",
       "<table border=\"1\" class=\"dataframe\">\n",
       "  <thead>\n",
       "    <tr style=\"text-align: right;\">\n",
       "      <th></th>\n",
       "      <th>purchase_date</th>\n",
       "      <th>item_name</th>\n",
       "      <th>item_price</th>\n",
       "      <th>customer_name</th>\n",
       "    </tr>\n",
       "  </thead>\n",
       "  <tbody>\n",
       "    <tr>\n",
       "      <td>0</td>\n",
       "      <td>2019-06-13 18:02:34</td>\n",
       "      <td>商品A</td>\n",
       "      <td>100.0</td>\n",
       "      <td>深井菜々美</td>\n",
       "    </tr>\n",
       "    <tr>\n",
       "      <td>1</td>\n",
       "      <td>2019-07-13 13:05:29</td>\n",
       "      <td>商品S</td>\n",
       "      <td>1900.0</td>\n",
       "      <td>浅田賢二</td>\n",
       "    </tr>\n",
       "    <tr>\n",
       "      <td>2</td>\n",
       "      <td>2019-05-11 19:42:07</td>\n",
       "      <td>商品A</td>\n",
       "      <td>100.0</td>\n",
       "      <td>南部慶二</td>\n",
       "    </tr>\n",
       "  </tbody>\n",
       "</table>\n",
       "</div>"
      ],
      "text/plain": [
       "         purchase_date item_name  item_price customer_name\n",
       "0  2019-06-13 18:02:34       商品A       100.0         深井菜々美\n",
       "1  2019-07-13 13:05:29       商品S      1900.0          浅田賢二\n",
       "2  2019-05-11 19:42:07       商品A       100.0          南部慶二"
      ]
     },
     "metadata": {},
     "output_type": "display_data"
    }
   ],
   "source": [
    "display(kokyaku_data.head(3)) # スペースあり\n",
    "display(uriage_data.head(3)) # スペースなし"
   ]
  },
  {
   "cell_type": "code",
   "execution_count": 44,
   "metadata": {
    "collapsed": true,
    "jupyter": {
     "outputs_hidden": true
    }
   },
   "outputs": [
    {
     "data": {
      "text/plain": [
       "array(['須賀ひとみ', '岡田敏也', '芳賀希', '荻野愛', '栗田憲一', '梅沢麻緒', '相原ひとり', '新村丈史',\n",
       "       '石川まさみ', '小栗正義', '大倉晃司', '那須蒼甫', '清水裕次郎', '榊原しぼり', '高沢美咲', '川島友以乃',\n",
       "       '唐沢景子', '稲田将也', '秋葉あき', '西脇礼子', '内村まさみ', '進藤瞬', '小口豊', '笹原しぼり',\n",
       "       '岩佐孝太郎', '河村由樹', '菅原誠治', '榎本薫', '高梨結衣', '鶴岡薫', '藤木一恵', '森岡季衣',\n",
       "       '田畑正敏', '宇野秀樹', '高原充則', '梅村秀樹', '浅田賢二', '石渡小雁', '吉岡サダヲ', '井口寛治',\n",
       "       '奥光洋', '佐藤慶二', '東光博', '高田さんま', '合田光', '深田信輔', '島英嗣', '梅津淳子',\n",
       "       '日比野徹', '熊倉綾', '松田浩正', '楠高史', '岡慶太', '市田寿明', '山西花', '青山鉄洋', '松川綾女',\n",
       "       '大滝麗奈', '赤木愛梨', '楠哲平', '堀内聡', '八木雅彦', '林勇', '日野夏希', '麻生莉緒', '根岸仁晶',\n",
       "       '赤木だん吉', '亀井一徳', '横田遥', '野本仁晶', '西原未華子', '五十嵐春樹', '堀江佑', '久保田倫子',\n",
       "       '金森なつみ', '城戸芳正', '望月真悠子', '井本マサカズ', '米沢仁晶', '本橋直人', '古川信吾', '岩沢那奈',\n",
       "       '西島知世', '戸塚美幸', '深井照生', '新谷智花', '有馬徹平', '本多フミヤ', '浜田未華子', '牧田玲那',\n",
       "       '島孝太郎', '石田花', '星野美嘉', '黒谷長利', '深沢ひろ子', '矢部夏空', '立石茜', '手塚雅之',\n",
       "       '松谷愛子', '中田美智子', '片瀬長利', '石崎幸子', '明石家明', '小川美菜', '田辺光洋', '神原美嘉',\n",
       "       '岩城徹平', '相川良介', '植村遥', '井川真悠子', '松元翔太', 'さだ千佳子', '島本研二', '影山輝信',\n",
       "       '浅見広司', '石野仁', '小平陽子', '福本美幸', '中仁晶', '田辺きみまろ', '熊倉明日', '鈴木一哉',\n",
       "       '杉田将也', '徳重優', '松岡ノブヒコ', '藤広之', '谷本愛梨', '松沢育二', '清水佑', '土屋朝陽',\n",
       "       '鳥居広司', '福島友也', '堀サンタマリア', '井川里穂', '田崎菜々美', '平田鉄二', '井上桃子', '尾形小雁',\n",
       "       '沖遥', '矢部美幸', '島袋友以乃', '深井菜々美', '南部慶二', '若杉徹', '矢部惇', '熊井憲史',\n",
       "       '岡村希', '桑原桃子', '原口俊二', '尾上勝久', '杉下悟志', '志村サダヲ', '山口法子', '大城ケンイチ',\n",
       "       '新村美月', '河内さとみ', '内田聡', '吉村愛梨', '根岸莉央', '丸山光臣', '石田佑', '根本博明',\n",
       "       '今茜', '村山知世', '大山咲', '島崎礼子', '松居満', '田上美佐子', '篠山雅功', '外山広司',\n",
       "       '岩井莉緒', '大崎ヒカル', '矢沢恵梨香', '石田郁恵', '荻野愛菜', '香椎優一', '黄川田博之', '井村俊二',\n",
       "       '植木沙知絵', '小松隼士', '松村聡', '平賀一哉', '手塚進', '磯野希', '白井俊二', '笹川照生',\n",
       "       '芦田博之', '大地礼子', '小町瞬', '水野メイサ', '板橋隆', '綾瀬俊介', '和泉直人', '堀北雅彦',\n",
       "       '唐沢涼', '川上りえ', '小松季衣', '白鳥りえ', '大西隆之介', '福井美希'], dtype=object)"
      ]
     },
     "metadata": {},
     "output_type": "display_data"
    },
    {
     "data": {
      "text/plain": [
       "array(['深井菜々美', '浅田賢二', '南部慶二', '麻生莉緒', '平田鉄二', '堀江佑', '深井照生', '牧田玲那',\n",
       "       '堀北雅彦', '大地礼子', '矢部惇', '岡田敏也', '浅見広司', '熊井憲史', '黄川田博之', '尾形小雁',\n",
       "       '神原美嘉', '若杉徹', '石渡小雁', '東光博', '日野夏希', '黒谷長利', '田辺光洋', '戸塚美幸',\n",
       "       '榊原しぼり', '明石家明', '手塚進', '荻野愛', '菅原誠治', '石田佑', '片瀬長利', '岡慶太',\n",
       "       '鈴木一哉', '小平陽子', '原口俊二', '井川真悠子', '金森なつみ', '本多フミヤ', '唐沢涼', '中田美智子',\n",
       "       '松谷愛子', '深沢ひろ子', '五十嵐春樹', '白井俊二', '芦田博之', '楠高史', '石崎幸子', '本橋直人',\n",
       "       '杉下悟志', '佐藤慶二', '高沢美咲', '石田郁恵', '秋葉あき', '久保田倫子', '矢部夏空', '植村遥',\n",
       "       '高梨結衣', '小口豊', '川島友以乃', '市田寿明', '梅津淳子', '有馬徹平', '芳賀希', '日比野徹',\n",
       "       '古川信吾', '西島知世', '新谷智花', '井村俊二', '亀井一徳', '横田遥', '大滝麗奈', '西原未華子',\n",
       "       '小松季衣', '福島友也', '林勇', '大山咲', '高田さんま', '河内さとみ', '那須蒼甫', '大城ケンイチ',\n",
       "       '田上美佐子', '平賀一哉', '米沢仁晶', '石田花', '手塚雅之', '沖遥', '岩佐孝太郎', '尾上勝久',\n",
       "       '島袋友以乃', '小町瞬', '赤木だん吉', '志村サダヲ', '山口法子', '松田浩正', '根岸仁晶', '岩城徹平',\n",
       "       '小松隼士', '石川まさみ', '香椎優一', '谷本愛梨', '福本美幸', '小川美菜', '丸山光臣', '唐沢景子',\n",
       "       '奥光洋', '松村聡', '松沢育二', '松川綾女', '城戸芳正', '中仁晶', '熊倉綾', '新村美月', '藤広之',\n",
       "       '鳥居広司', '磯野希', '吉村愛梨', '熊倉明日', '栗田憲一', '島英嗣', '堀サンタマリア', '井川里穂',\n",
       "       '進藤瞬', '小栗正義', '水野メイサ', '楠哲平', '板橋隆', '外山広司', '堀内聡', '星野美嘉',\n",
       "       '井口寛治', '石野仁', '稲田将也', '徳重優', '川上りえ', 'さだ千佳子', '田辺きみまろ', '藤木一恵',\n",
       "       '西脇礼子', '野本仁晶', '森岡季衣', '大倉晃司', '梅村秀樹', '岡村希', '井本マサカズ', '桑原桃子',\n",
       "       '笹原しぼり', '松居満', '鶴岡薫', '内田聡', '荻野愛菜', '矢沢恵梨香', '島本研二', '今茜', '合田光',\n",
       "       '篠山雅功', '相原ひとり', '立石茜', '青山鉄洋', '大崎ヒカル', '井上桃子', '松岡ノブヒコ', '八木雅彦',\n",
       "       '白鳥りえ', '島崎礼子', '矢部美幸', '土屋朝陽', '影山輝信', '和泉直人', '綾瀬俊介', '島孝太郎',\n",
       "       '内村まさみ', '清水裕次郎', '榎本薫', '笹川照生', '吉岡サダヲ', '河村由樹', '田崎菜々美', '大西隆之介',\n",
       "       '赤木愛梨', '田畑正敏', '望月真悠子', '清水佑', '相川良介', '高原充則', '村山知世', '岩井莉緒',\n",
       "       '山西花', '浜田未華子', '根岸莉央', '根本博明', '杉田将也', '深田信輔', '梅沢麻緒', '須賀ひとみ',\n",
       "       '松元翔太', '新村丈史', '宇野秀樹', '植木沙知絵', '岩沢那奈'], dtype=object)"
      ]
     },
     "metadata": {},
     "output_type": "display_data"
    }
   ],
   "source": [
    "pd.set_option(\"display.max_row\",300)\n",
    "display(kokyaku_data[\"顧客名\"].unique())\n",
    "display(uriage_data[\"customer_name\"].unique())"
   ]
  },
  {
   "cell_type": "code",
   "execution_count": 36,
   "metadata": {},
   "outputs": [
    {
     "data": {
      "text/plain": [
       "0    須賀ひとみ\n",
       "1     岡田敏也\n",
       "2      芳賀希\n",
       "Name: 顧客名, dtype: object"
      ]
     },
     "execution_count": 36,
     "metadata": {},
     "output_type": "execute_result"
    }
   ],
   "source": [
    "kokyaku_data[\"顧客名\"] = kokyaku_data[\"顧客名\"].str.replace(\" \", \"\")\n",
    "kokyaku_data[\"顧客名\"] = kokyaku_data[\"顧客名\"].str.replace(\"　\", \"\")\n",
    "kokyaku_data[\"顧客名\"].head(3)"
   ]
  },
  {
   "cell_type": "code",
   "execution_count": 43,
   "metadata": {},
   "outputs": [
    {
     "data": {
      "text/plain": [
       "set()"
      ]
     },
     "execution_count": 43,
     "metadata": {},
     "output_type": "execute_result"
    }
   ],
   "source": [
    "# 売上データにある名前　は　顧客マスタ　にすべて存在することをチェック\n",
    "set(uriage_data[\"customer_name\"].unique()) - set(kokyaku_data[\"顧客名\"].unique())"
   ]
  },
  {
   "cell_type": "code",
   "execution_count": null,
   "metadata": {},
   "outputs": [],
   "source": []
  }
 ],
 "metadata": {
  "kernelspec": {
   "display_name": "Python 3",
   "language": "python",
   "name": "python3"
  },
  "language_info": {
   "codemirror_mode": {
    "name": "ipython",
    "version": 3
   },
   "file_extension": ".py",
   "mimetype": "text/x-python",
   "name": "python",
   "nbconvert_exporter": "python",
   "pygments_lexer": "ipython3",
   "version": "3.7.3"
  }
 },
 "nbformat": 4,
 "nbformat_minor": 4
}
