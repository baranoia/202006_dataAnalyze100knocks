{
 "cells": [
  {
   "cell_type": "code",
   "execution_count": 1,
   "metadata": {},
   "outputs": [],
   "source": [
    "import pandas as pd"
   ]
  },
  {
   "cell_type": "code",
   "execution_count": 2,
   "metadata": {},
   "outputs": [
    {
     "data": {
      "text/html": [
       "<div>\n",
       "<style scoped>\n",
       "    .dataframe tbody tr th:only-of-type {\n",
       "        vertical-align: middle;\n",
       "    }\n",
       "\n",
       "    .dataframe tbody tr th {\n",
       "        vertical-align: top;\n",
       "    }\n",
       "\n",
       "    .dataframe thead th {\n",
       "        text-align: right;\n",
       "    }\n",
       "</style>\n",
       "<table border=\"1\" class=\"dataframe\">\n",
       "  <thead>\n",
       "    <tr style=\"text-align: right;\">\n",
       "      <th></th>\n",
       "      <th>purchase_date</th>\n",
       "      <th>item_name</th>\n",
       "      <th>item_price</th>\n",
       "      <th>customer_name</th>\n",
       "    </tr>\n",
       "  </thead>\n",
       "  <tbody>\n",
       "    <tr>\n",
       "      <td>0</td>\n",
       "      <td>2019-06-13 18:02:34</td>\n",
       "      <td>商品A</td>\n",
       "      <td>100.0</td>\n",
       "      <td>深井菜々美</td>\n",
       "    </tr>\n",
       "    <tr>\n",
       "      <td>1</td>\n",
       "      <td>2019-07-13 13:05:29</td>\n",
       "      <td>商 品 S</td>\n",
       "      <td>NaN</td>\n",
       "      <td>浅田賢二</td>\n",
       "    </tr>\n",
       "    <tr>\n",
       "      <td>2</td>\n",
       "      <td>2019-05-11 19:42:07</td>\n",
       "      <td>商 品 a</td>\n",
       "      <td>NaN</td>\n",
       "      <td>南部慶二</td>\n",
       "    </tr>\n",
       "  </tbody>\n",
       "</table>\n",
       "</div>"
      ],
      "text/plain": [
       "         purchase_date item_name  item_price customer_name\n",
       "0  2019-06-13 18:02:34       商品A       100.0         深井菜々美\n",
       "1  2019-07-13 13:05:29     商 品 S         NaN          浅田賢二\n",
       "2  2019-05-11 19:42:07     商 品 a         NaN          南部慶二"
      ]
     },
     "metadata": {},
     "output_type": "display_data"
    },
    {
     "data": {
      "text/html": [
       "<div>\n",
       "<style scoped>\n",
       "    .dataframe tbody tr th:only-of-type {\n",
       "        vertical-align: middle;\n",
       "    }\n",
       "\n",
       "    .dataframe tbody tr th {\n",
       "        vertical-align: top;\n",
       "    }\n",
       "\n",
       "    .dataframe thead th {\n",
       "        text-align: right;\n",
       "    }\n",
       "</style>\n",
       "<table border=\"1\" class=\"dataframe\">\n",
       "  <thead>\n",
       "    <tr style=\"text-align: right;\">\n",
       "      <th></th>\n",
       "      <th>顧客名</th>\n",
       "      <th>かな</th>\n",
       "      <th>地域</th>\n",
       "      <th>メールアドレス</th>\n",
       "      <th>登録日</th>\n",
       "    </tr>\n",
       "  </thead>\n",
       "  <tbody>\n",
       "    <tr>\n",
       "      <td>0</td>\n",
       "      <td>須賀ひとみ</td>\n",
       "      <td>すが ひとみ</td>\n",
       "      <td>H市</td>\n",
       "      <td>suga_hitomi@example.com</td>\n",
       "      <td>2018/01/04</td>\n",
       "    </tr>\n",
       "    <tr>\n",
       "      <td>1</td>\n",
       "      <td>岡田　 敏也</td>\n",
       "      <td>おかだ としや</td>\n",
       "      <td>E市</td>\n",
       "      <td>okada_toshiya@example.com</td>\n",
       "      <td>42782</td>\n",
       "    </tr>\n",
       "    <tr>\n",
       "      <td>2</td>\n",
       "      <td>芳賀 希</td>\n",
       "      <td>はが のぞみ</td>\n",
       "      <td>A市</td>\n",
       "      <td>haga_nozomi@example.com</td>\n",
       "      <td>2018/01/07</td>\n",
       "    </tr>\n",
       "  </tbody>\n",
       "</table>\n",
       "</div>"
      ],
      "text/plain": [
       "      顧客名       かな  地域                    メールアドレス         登録日\n",
       "0   須賀ひとみ   すが ひとみ  H市    suga_hitomi@example.com  2018/01/04\n",
       "1  岡田　 敏也  おかだ としや  E市  okada_toshiya@example.com       42782\n",
       "2    芳賀 希   はが のぞみ  A市    haga_nozomi@example.com  2018/01/07"
      ]
     },
     "metadata": {},
     "output_type": "display_data"
    }
   ],
   "source": [
    "uriage_data = pd.read_csv(f\"./chapter2_data/uriage.csv\")\n",
    "kokyaku_data = pd.read_excel(f\"./chapter2_data/kokyaku_daicho.xlsx\")\n",
    "display(uriage_data.head(3))\n",
    "display(kokyaku_data.head(3))"
   ]
  },
  {
   "cell_type": "code",
   "execution_count": 3,
   "metadata": {},
   "outputs": [
    {
     "data": {
      "text/plain": [
       "purchase_date      0\n",
       "item_name          0\n",
       "item_price       387\n",
       "customer_name      0\n",
       "dtype: int64"
      ]
     },
     "metadata": {},
     "output_type": "display_data"
    },
    {
     "data": {
      "text/html": [
       "<div>\n",
       "<style scoped>\n",
       "    .dataframe tbody tr th:only-of-type {\n",
       "        vertical-align: middle;\n",
       "    }\n",
       "\n",
       "    .dataframe tbody tr th {\n",
       "        vertical-align: top;\n",
       "    }\n",
       "\n",
       "    .dataframe thead th {\n",
       "        text-align: right;\n",
       "    }\n",
       "</style>\n",
       "<table border=\"1\" class=\"dataframe\">\n",
       "  <thead>\n",
       "    <tr style=\"text-align: right;\">\n",
       "      <th></th>\n",
       "      <th>count</th>\n",
       "      <th>unique</th>\n",
       "      <th>top</th>\n",
       "      <th>freq</th>\n",
       "      <th>mean</th>\n",
       "      <th>std</th>\n",
       "      <th>min</th>\n",
       "      <th>25%</th>\n",
       "      <th>50%</th>\n",
       "      <th>75%</th>\n",
       "      <th>max</th>\n",
       "    </tr>\n",
       "  </thead>\n",
       "  <tbody>\n",
       "    <tr>\n",
       "      <td>purchase_date</td>\n",
       "      <td>2999</td>\n",
       "      <td>2999</td>\n",
       "      <td>2019-01-27 12:19:27</td>\n",
       "      <td>1</td>\n",
       "      <td>NaN</td>\n",
       "      <td>NaN</td>\n",
       "      <td>NaN</td>\n",
       "      <td>NaN</td>\n",
       "      <td>NaN</td>\n",
       "      <td>NaN</td>\n",
       "      <td>NaN</td>\n",
       "    </tr>\n",
       "    <tr>\n",
       "      <td>item_name</td>\n",
       "      <td>2999</td>\n",
       "      <td>99</td>\n",
       "      <td>商品A</td>\n",
       "      <td>133</td>\n",
       "      <td>NaN</td>\n",
       "      <td>NaN</td>\n",
       "      <td>NaN</td>\n",
       "      <td>NaN</td>\n",
       "      <td>NaN</td>\n",
       "      <td>NaN</td>\n",
       "      <td>NaN</td>\n",
       "    </tr>\n",
       "    <tr>\n",
       "      <td>item_price</td>\n",
       "      <td>2612</td>\n",
       "      <td>NaN</td>\n",
       "      <td>NaN</td>\n",
       "      <td>NaN</td>\n",
       "      <td>1296.4</td>\n",
       "      <td>717.955</td>\n",
       "      <td>100</td>\n",
       "      <td>700</td>\n",
       "      <td>1300</td>\n",
       "      <td>1900</td>\n",
       "      <td>2600</td>\n",
       "    </tr>\n",
       "    <tr>\n",
       "      <td>customer_name</td>\n",
       "      <td>2999</td>\n",
       "      <td>199</td>\n",
       "      <td>島袋友以乃</td>\n",
       "      <td>26</td>\n",
       "      <td>NaN</td>\n",
       "      <td>NaN</td>\n",
       "      <td>NaN</td>\n",
       "      <td>NaN</td>\n",
       "      <td>NaN</td>\n",
       "      <td>NaN</td>\n",
       "      <td>NaN</td>\n",
       "    </tr>\n",
       "  </tbody>\n",
       "</table>\n",
       "</div>"
      ],
      "text/plain": [
       "              count unique                  top freq    mean      std  min  \\\n",
       "purchase_date  2999   2999  2019-01-27 12:19:27    1     NaN      NaN  NaN   \n",
       "item_name      2999     99                  商品A  133     NaN      NaN  NaN   \n",
       "item_price     2612    NaN                  NaN  NaN  1296.4  717.955  100   \n",
       "customer_name  2999    199                島袋友以乃   26     NaN      NaN  NaN   \n",
       "\n",
       "               25%   50%   75%   max  \n",
       "purchase_date  NaN   NaN   NaN   NaN  \n",
       "item_name      NaN   NaN   NaN   NaN  \n",
       "item_price     700  1300  1900  2600  \n",
       "customer_name  NaN   NaN   NaN   NaN  "
      ]
     },
     "metadata": {},
     "output_type": "display_data"
    },
    {
     "data": {
      "text/plain": [
       "顧客名        0\n",
       "かな         0\n",
       "地域         0\n",
       "メールアドレス    0\n",
       "登録日        0\n",
       "dtype: int64"
      ]
     },
     "metadata": {},
     "output_type": "display_data"
    },
    {
     "data": {
      "text/html": [
       "<div>\n",
       "<style scoped>\n",
       "    .dataframe tbody tr th:only-of-type {\n",
       "        vertical-align: middle;\n",
       "    }\n",
       "\n",
       "    .dataframe tbody tr th {\n",
       "        vertical-align: top;\n",
       "    }\n",
       "\n",
       "    .dataframe thead th {\n",
       "        text-align: right;\n",
       "    }\n",
       "</style>\n",
       "<table border=\"1\" class=\"dataframe\">\n",
       "  <thead>\n",
       "    <tr style=\"text-align: right;\">\n",
       "      <th></th>\n",
       "      <th>count</th>\n",
       "      <th>unique</th>\n",
       "      <th>top</th>\n",
       "      <th>freq</th>\n",
       "    </tr>\n",
       "  </thead>\n",
       "  <tbody>\n",
       "    <tr>\n",
       "      <td>顧客名</td>\n",
       "      <td>200</td>\n",
       "      <td>200</td>\n",
       "      <td>山口 法子</td>\n",
       "      <td>1</td>\n",
       "    </tr>\n",
       "    <tr>\n",
       "      <td>かな</td>\n",
       "      <td>200</td>\n",
       "      <td>200</td>\n",
       "      <td>からさわ けいこ</td>\n",
       "      <td>1</td>\n",
       "    </tr>\n",
       "    <tr>\n",
       "      <td>地域</td>\n",
       "      <td>200</td>\n",
       "      <td>8</td>\n",
       "      <td>A市</td>\n",
       "      <td>31</td>\n",
       "    </tr>\n",
       "    <tr>\n",
       "      <td>メールアドレス</td>\n",
       "      <td>200</td>\n",
       "      <td>200</td>\n",
       "      <td>ishino_jin@example.com</td>\n",
       "      <td>1</td>\n",
       "    </tr>\n",
       "    <tr>\n",
       "      <td>登録日</td>\n",
       "      <td>200</td>\n",
       "      <td>174</td>\n",
       "      <td>2017/01/30</td>\n",
       "      <td>4</td>\n",
       "    </tr>\n",
       "  </tbody>\n",
       "</table>\n",
       "</div>"
      ],
      "text/plain": [
       "        count unique                     top freq\n",
       "顧客名       200    200                   山口 法子    1\n",
       "かな        200    200                からさわ けいこ    1\n",
       "地域        200      8                      A市   31\n",
       "メールアドレス   200    200  ishino_jin@example.com    1\n",
       "登録日       200    174              2017/01/30    4"
      ]
     },
     "metadata": {},
     "output_type": "display_data"
    }
   ],
   "source": [
    "display(uriage_data.isnull().sum())\n",
    "display(uriage_data.describe(include=\"all\").T)\n",
    "display(kokyaku_data.isnull().sum())\n",
    "display(kokyaku_data.describe(include=\"all\").T)"
   ]
  },
  {
   "cell_type": "code",
   "execution_count": null,
   "metadata": {},
   "outputs": [],
   "source": []
  },
  {
   "cell_type": "code",
   "execution_count": 4,
   "metadata": {},
   "outputs": [
    {
     "data": {
      "text/plain": [
       "0      商品A\n",
       "1    商 品 S\n",
       "2    商 品 a\n",
       "3      商品Z\n",
       "4      商品a\n",
       "Name: item_name, dtype: object"
      ]
     },
     "execution_count": 4,
     "metadata": {},
     "output_type": "execute_result"
    }
   ],
   "source": [
    "uriage_data[\"item_name\"].head()\n",
    "# スペースが入ってたり、小文字だったり、、、"
   ]
  },
  {
   "cell_type": "code",
   "execution_count": 5,
   "metadata": {},
   "outputs": [
    {
     "data": {
      "text/plain": [
       "0     100.0\n",
       "1       NaN\n",
       "2       NaN\n",
       "3    2600.0\n",
       "4       NaN\n",
       "Name: item_price, dtype: float64"
      ]
     },
     "execution_count": 5,
     "metadata": {},
     "output_type": "execute_result"
    }
   ],
   "source": [
    "uriage_data[\"item_price\"].head()\n",
    "# Nanがある、、、"
   ]
  },
  {
   "cell_type": "code",
   "execution_count": null,
   "metadata": {},
   "outputs": [],
   "source": []
  },
  {
   "cell_type": "code",
   "execution_count": 6,
   "metadata": {},
   "outputs": [],
   "source": [
    "# ノック14：商品名の揺れを補正しよう"
   ]
  },
  {
   "cell_type": "code",
   "execution_count": 7,
   "metadata": {},
   "outputs": [
    {
     "data": {
      "text/plain": [
       "array(['商品A', '商 品 S', '商 品 a', '商品Z', '商品a', '商品S', '商品 a', '商品V', '商品O',\n",
       "       '商 品U', '商品L', '商  品V', '商 品O', '商品C', '商品I', '商品r', '商品X', '商品 g',\n",
       "       '商品R', '商品P', '商品Q', '商品y', '商品 A', '商品N', '商品W', '商 品E', '商品K',\n",
       "       '商品B', '商品F', '商 品s', '  商品W', ' 商 品 n', '商 品F', '商品D', '商品M',\n",
       "       '商品Y', '商品U', '商品H', '商品T', '商品J', '商  品O', '商品E', '商  品Q', ' 商品S',\n",
       "       ' 商品M', '商  品T', '商品G', '商 品G', ' 商品P', ' 商品E', '商 品N', '商 品Y',\n",
       "       '商品 J', '商品 V', '商品 K', '商 品V', '商 品D', '商 品A', '商品 F', '商品 H',\n",
       "       '商 品K', '商 品T', '商品 X', '商品 Q', '商 品X', '商 品H', '商 品C', '商品 B',\n",
       "       '商品 O', '商品 T', '商品v', '商品p', '商品i', '商品 w', '商 品 s', '商 品 q',\n",
       "       '商品s', '商品l', '商品t', '商品k', '商品g', '商品o', '商品 R', '商品 S', '商 品M',\n",
       "       '商品j', '商品d', '商品 I', '商品 E', '商品 o', '商品c', '商品 v', '商品e', '商品x',\n",
       "       '商 品I', ' 商品W', ' 商品X', '商品 M', '商 品P'], dtype=object)"
      ]
     },
     "metadata": {},
     "output_type": "display_data"
    },
    {
     "data": {
      "text/plain": [
       "99"
      ]
     },
     "metadata": {},
     "output_type": "display_data"
    }
   ],
   "source": [
    "display( pd.unique(uriage_data[\"item_name\"]) )\n",
    "display( len(pd.unique(uriage_data[\"item_name\"])) )\n",
    "#pd.set_option(\"display.max_row\",100)\n",
    "#uriage_data[\"item_name\"].value_counts()"
   ]
  },
  {
   "cell_type": "code",
   "execution_count": null,
   "metadata": {},
   "outputs": [],
   "source": []
  },
  {
   "cell_type": "code",
   "execution_count": 8,
   "metadata": {},
   "outputs": [],
   "source": [
    "# 修正\n",
    "uriage_data[\"item_name\"] = uriage_data[\"item_name\"].str.upper()\n",
    "uriage_data[\"item_name\"] = uriage_data[\"item_name\"].str.replace(\" \", \"\")\n",
    "uriage_data[\"item_name\"] = uriage_data[\"item_name\"].str.replace(\"　\", \"\")"
   ]
  },
  {
   "cell_type": "code",
   "execution_count": 9,
   "metadata": {},
   "outputs": [
    {
     "data": {
      "text/html": [
       "<div>\n",
       "<style scoped>\n",
       "    .dataframe tbody tr th:only-of-type {\n",
       "        vertical-align: middle;\n",
       "    }\n",
       "\n",
       "    .dataframe tbody tr th {\n",
       "        vertical-align: top;\n",
       "    }\n",
       "\n",
       "    .dataframe thead th {\n",
       "        text-align: right;\n",
       "    }\n",
       "</style>\n",
       "<table border=\"1\" class=\"dataframe\">\n",
       "  <thead>\n",
       "    <tr style=\"text-align: right;\">\n",
       "      <th></th>\n",
       "      <th>purchase_date</th>\n",
       "      <th>item_name</th>\n",
       "      <th>item_price</th>\n",
       "      <th>customer_name</th>\n",
       "    </tr>\n",
       "  </thead>\n",
       "  <tbody>\n",
       "    <tr>\n",
       "      <td>0</td>\n",
       "      <td>2019-06-13 18:02:34</td>\n",
       "      <td>商品A</td>\n",
       "      <td>100.0</td>\n",
       "      <td>深井菜々美</td>\n",
       "    </tr>\n",
       "    <tr>\n",
       "      <td>1748</td>\n",
       "      <td>2019-05-19 20:22:22</td>\n",
       "      <td>商品A</td>\n",
       "      <td>100.0</td>\n",
       "      <td>松川綾女</td>\n",
       "    </tr>\n",
       "    <tr>\n",
       "      <td>223</td>\n",
       "      <td>2019-06-25 08:13:20</td>\n",
       "      <td>商品A</td>\n",
       "      <td>100.0</td>\n",
       "      <td>板橋隆</td>\n",
       "    </tr>\n",
       "    <tr>\n",
       "      <td>1742</td>\n",
       "      <td>2019-06-13 16:03:17</td>\n",
       "      <td>商品A</td>\n",
       "      <td>100.0</td>\n",
       "      <td>小平陽子</td>\n",
       "    </tr>\n",
       "    <tr>\n",
       "      <td>1738</td>\n",
       "      <td>2019-02-10 00:28:43</td>\n",
       "      <td>商品A</td>\n",
       "      <td>100.0</td>\n",
       "      <td>松田浩正</td>\n",
       "    </tr>\n",
       "    <tr>\n",
       "      <td>...</td>\n",
       "      <td>...</td>\n",
       "      <td>...</td>\n",
       "      <td>...</td>\n",
       "      <td>...</td>\n",
       "    </tr>\n",
       "    <tr>\n",
       "      <td>2880</td>\n",
       "      <td>2019-04-22 00:36:52</td>\n",
       "      <td>商品Y</td>\n",
       "      <td>NaN</td>\n",
       "      <td>田辺光洋</td>\n",
       "    </tr>\n",
       "    <tr>\n",
       "      <td>2881</td>\n",
       "      <td>2019-04-30 14:21:09</td>\n",
       "      <td>商品Y</td>\n",
       "      <td>NaN</td>\n",
       "      <td>高原充則</td>\n",
       "    </tr>\n",
       "    <tr>\n",
       "      <td>1525</td>\n",
       "      <td>2019-01-24 10:27:23</td>\n",
       "      <td>商品Y</td>\n",
       "      <td>2500.0</td>\n",
       "      <td>五十嵐春樹</td>\n",
       "    </tr>\n",
       "    <tr>\n",
       "      <td>1361</td>\n",
       "      <td>2019-05-28 13:45:32</td>\n",
       "      <td>商品Y</td>\n",
       "      <td>2500.0</td>\n",
       "      <td>大崎ヒカル</td>\n",
       "    </tr>\n",
       "    <tr>\n",
       "      <td>3</td>\n",
       "      <td>2019-02-12 23:40:45</td>\n",
       "      <td>商品Z</td>\n",
       "      <td>2600.0</td>\n",
       "      <td>麻生莉緒</td>\n",
       "    </tr>\n",
       "  </tbody>\n",
       "</table>\n",
       "<p>2999 rows × 4 columns</p>\n",
       "</div>"
      ],
      "text/plain": [
       "            purchase_date item_name  item_price customer_name\n",
       "0     2019-06-13 18:02:34       商品A       100.0         深井菜々美\n",
       "1748  2019-05-19 20:22:22       商品A       100.0          松川綾女\n",
       "223   2019-06-25 08:13:20       商品A       100.0           板橋隆\n",
       "1742  2019-06-13 16:03:17       商品A       100.0          小平陽子\n",
       "1738  2019-02-10 00:28:43       商品A       100.0          松田浩正\n",
       "...                   ...       ...         ...           ...\n",
       "2880  2019-04-22 00:36:52       商品Y         NaN          田辺光洋\n",
       "2881  2019-04-30 14:21:09       商品Y         NaN          高原充則\n",
       "1525  2019-01-24 10:27:23       商品Y      2500.0         五十嵐春樹\n",
       "1361  2019-05-28 13:45:32       商品Y      2500.0         大崎ヒカル\n",
       "3     2019-02-12 23:40:45       商品Z      2600.0          麻生莉緒\n",
       "\n",
       "[2999 rows x 4 columns]"
      ]
     },
     "execution_count": 9,
     "metadata": {},
     "output_type": "execute_result"
    }
   ],
   "source": [
    "uriage_data.sort_values([\"item_name\"], ascending=True)"
   ]
  },
  {
   "cell_type": "code",
   "execution_count": 10,
   "metadata": {},
   "outputs": [
    {
     "data": {
      "text/plain": [
       "array(['商品A', '商品S', '商品Z', '商品V', '商品O', '商品U', '商品L', '商品C', '商品I',\n",
       "       '商品R', '商品X', '商品G', '商品P', '商品Q', '商品Y', '商品N', '商品W', '商品E',\n",
       "       '商品K', '商品B', '商品F', '商品D', '商品M', '商品H', '商品T', '商品J'],\n",
       "      dtype=object)"
      ]
     },
     "metadata": {},
     "output_type": "display_data"
    },
    {
     "data": {
      "text/plain": [
       "26"
      ]
     },
     "metadata": {},
     "output_type": "display_data"
    }
   ],
   "source": [
    "display( pd.unique(uriage_data[\"item_name\"]) )\n",
    "display( len(pd.unique(uriage_data[\"item_name\"])) )"
   ]
  },
  {
   "cell_type": "code",
   "execution_count": null,
   "metadata": {},
   "outputs": [],
   "source": []
  },
  {
   "cell_type": "code",
   "execution_count": null,
   "metadata": {},
   "outputs": [],
   "source": [
    "# ノック15 金額欠損の補完をしよう"
   ]
  },
  {
   "cell_type": "code",
   "execution_count": 16,
   "metadata": {},
   "outputs": [
    {
     "data": {
      "text/plain": [
       "purchase_date    False\n",
       "item_name        False\n",
       "item_price        True\n",
       "customer_name    False\n",
       "dtype: bool"
      ]
     },
     "execution_count": 16,
     "metadata": {},
     "output_type": "execute_result"
    }
   ],
   "source": [
    "# item_price にnullがある\n",
    "uriage_data.isnull().any(axis=0)"
   ]
  },
  {
   "cell_type": "code",
   "execution_count": 17,
   "metadata": {},
   "outputs": [
    {
     "data": {
      "text/plain": [
       "387"
      ]
     },
     "execution_count": 17,
     "metadata": {},
     "output_type": "execute_result"
    }
   ],
   "source": [
    "uriage_data[\"item_price\"].isnull().sum()"
   ]
  },
  {
   "cell_type": "code",
   "execution_count": 50,
   "metadata": {},
   "outputs": [
    {
     "data": {
      "text/html": [
       "<div>\n",
       "<style scoped>\n",
       "    .dataframe tbody tr th:only-of-type {\n",
       "        vertical-align: middle;\n",
       "    }\n",
       "\n",
       "    .dataframe tbody tr th {\n",
       "        vertical-align: top;\n",
       "    }\n",
       "\n",
       "    .dataframe thead th {\n",
       "        text-align: right;\n",
       "    }\n",
       "</style>\n",
       "<table border=\"1\" class=\"dataframe\">\n",
       "  <thead>\n",
       "    <tr style=\"text-align: right;\">\n",
       "      <th></th>\n",
       "      <th>item_name</th>\n",
       "      <th>item_price</th>\n",
       "    </tr>\n",
       "  </thead>\n",
       "  <tbody>\n",
       "    <tr>\n",
       "      <td>0</td>\n",
       "      <td>商品A</td>\n",
       "      <td>100.0</td>\n",
       "    </tr>\n",
       "    <tr>\n",
       "      <td>1748</td>\n",
       "      <td>商品A</td>\n",
       "      <td>100.0</td>\n",
       "    </tr>\n",
       "    <tr>\n",
       "      <td>223</td>\n",
       "      <td>商品A</td>\n",
       "      <td>100.0</td>\n",
       "    </tr>\n",
       "    <tr>\n",
       "      <td>1742</td>\n",
       "      <td>商品A</td>\n",
       "      <td>100.0</td>\n",
       "    </tr>\n",
       "    <tr>\n",
       "      <td>1738</td>\n",
       "      <td>商品A</td>\n",
       "      <td>100.0</td>\n",
       "    </tr>\n",
       "    <tr>\n",
       "      <td>...</td>\n",
       "      <td>...</td>\n",
       "      <td>...</td>\n",
       "    </tr>\n",
       "    <tr>\n",
       "      <td>2880</td>\n",
       "      <td>商品Y</td>\n",
       "      <td>NaN</td>\n",
       "    </tr>\n",
       "    <tr>\n",
       "      <td>2881</td>\n",
       "      <td>商品Y</td>\n",
       "      <td>NaN</td>\n",
       "    </tr>\n",
       "    <tr>\n",
       "      <td>1525</td>\n",
       "      <td>商品Y</td>\n",
       "      <td>2500.0</td>\n",
       "    </tr>\n",
       "    <tr>\n",
       "      <td>1361</td>\n",
       "      <td>商品Y</td>\n",
       "      <td>2500.0</td>\n",
       "    </tr>\n",
       "    <tr>\n",
       "      <td>3</td>\n",
       "      <td>商品Z</td>\n",
       "      <td>2600.0</td>\n",
       "    </tr>\n",
       "  </tbody>\n",
       "</table>\n",
       "<p>2999 rows × 2 columns</p>\n",
       "</div>"
      ],
      "text/plain": [
       "     item_name  item_price\n",
       "0          商品A       100.0\n",
       "1748       商品A       100.0\n",
       "223        商品A       100.0\n",
       "1742       商品A       100.0\n",
       "1738       商品A       100.0\n",
       "...        ...         ...\n",
       "2880       商品Y         NaN\n",
       "2881       商品Y         NaN\n",
       "1525       商品Y      2500.0\n",
       "1361       商品Y      2500.0\n",
       "3          商品Z      2600.0\n",
       "\n",
       "[2999 rows x 2 columns]"
      ]
     },
     "execution_count": 50,
     "metadata": {},
     "output_type": "execute_result"
    }
   ],
   "source": [
    "# 同じ商品は常に同一価格なので\n",
    "# 同じ商品から補完する\n",
    "# テキストとやり方はちがうけどいいや\n",
    "uriage_data[[\"item_name\", \"item_price\"]].sort_values(by=\"item_name\")"
   ]
  },
  {
   "cell_type": "code",
   "execution_count": 55,
   "metadata": {},
   "outputs": [
    {
     "name": "stdout",
     "output_type": "stream",
     "text": [
      "商品A 100.0\n",
      "商品B 200.0\n",
      "商品C 300.0\n",
      "商品D 400.0\n",
      "商品E 500.0\n",
      "商品F 600.0\n",
      "商品G 700.0\n",
      "商品H 800.0\n",
      "商品I 900.0\n",
      "商品J 1000.0\n",
      "商品K 1100.0\n",
      "商品L 1200.0\n",
      "商品M 1300.0\n",
      "商品N 1400.0\n",
      "商品O 1500.0\n",
      "商品P 1600.0\n",
      "商品Q 1700.0\n",
      "商品R 1800.0\n",
      "商品S 1900.0\n",
      "商品T 2000.0\n",
      "商品U 2100.0\n",
      "商品V 2200.0\n",
      "商品W 2300.0\n",
      "商品X 2400.0\n",
      "商品Y 2500.0\n",
      "商品Z 2600.0\n"
     ]
    }
   ],
   "source": [
    "price_map ={} \n",
    "for name in uriage_data[\"item_name\"].sort_values().unique():\n",
    "    for price in list(uriage_data[uriage_data[\"item_name\"] == name][\"item_price\"].value_counts().index):\n",
    "        print(name,price)\n",
    "        price_map[name] = price"
   ]
  },
  {
   "cell_type": "code",
   "execution_count": null,
   "metadata": {},
   "outputs": [],
   "source": []
  },
  {
   "cell_type": "code",
   "execution_count": 56,
   "metadata": {},
   "outputs": [],
   "source": [
    "def retPrice(key):\n",
    "    return price_map[key]"
   ]
  },
  {
   "cell_type": "code",
   "execution_count": 66,
   "metadata": {},
   "outputs": [],
   "source": [
    "# チェックしたいので別カラム名で入れて\n",
    "uriage_data[\"item_price_\"] = uriage_data[\"item_name\"].apply(retPrice)"
   ]
  },
  {
   "cell_type": "code",
   "execution_count": 67,
   "metadata": {},
   "outputs": [
    {
     "data": {
      "text/plain": [
       "NaN    387\n",
       "Name: item_price, dtype: int64"
      ]
     },
     "execution_count": 67,
     "metadata": {},
     "output_type": "execute_result"
    }
   ],
   "source": [
    "# チェック\n",
    "# 埋めたのと元の値で一致しないのは、元の値がnullのレコードのみ\n",
    "#uriage_data[ uriage_data[\"item_price\"] != uriage_data[\"item_price_\"] ][[\"item_name\", \"item_name\", \"item_price\", \"item_price_\"]]\n",
    "uriage_data[ uriage_data[\"item_price\"] != uriage_data[\"item_price_\"] ][\"item_price\"].value_counts(dropna=False)"
   ]
  },
  {
   "cell_type": "code",
   "execution_count": 68,
   "metadata": {},
   "outputs": [],
   "source": [
    "uriage_data[\"item_price\"] =  uriage_data[\"item_price_\"]"
   ]
  },
  {
   "cell_type": "code",
   "execution_count": 69,
   "metadata": {},
   "outputs": [
    {
     "data": {
      "text/plain": [
       "0"
      ]
     },
     "execution_count": 69,
     "metadata": {},
     "output_type": "execute_result"
    }
   ],
   "source": [
    "uriage_data[\"item_price\"].isnull().sum()"
   ]
  },
  {
   "cell_type": "code",
   "execution_count": 72,
   "metadata": {},
   "outputs": [],
   "source": [
    "uriage_data = uriage_data.drop([\"item_price_\"], axis=1,)"
   ]
  },
  {
   "cell_type": "code",
   "execution_count": 75,
   "metadata": {},
   "outputs": [
    {
     "name": "stdout",
     "output_type": "stream",
     "text": [
      "商品A min= 100.0 max= 100.0 一致する？ True\n",
      "商品B min= 200.0 max= 200.0 一致する？ True\n",
      "商品C min= 300.0 max= 300.0 一致する？ True\n",
      "商品D min= 400.0 max= 400.0 一致する？ True\n",
      "商品E min= 500.0 max= 500.0 一致する？ True\n",
      "商品F min= 600.0 max= 600.0 一致する？ True\n",
      "商品G min= 700.0 max= 700.0 一致する？ True\n",
      "商品H min= 800.0 max= 800.0 一致する？ True\n",
      "商品I min= 900.0 max= 900.0 一致する？ True\n",
      "商品J min= 1000.0 max= 1000.0 一致する？ True\n",
      "商品K min= 1100.0 max= 1100.0 一致する？ True\n",
      "商品L min= 1200.0 max= 1200.0 一致する？ True\n",
      "商品M min= 1300.0 max= 1300.0 一致する？ True\n",
      "商品N min= 1400.0 max= 1400.0 一致する？ True\n",
      "商品O min= 1500.0 max= 1500.0 一致する？ True\n",
      "商品P min= 1600.0 max= 1600.0 一致する？ True\n",
      "商品Q min= 1700.0 max= 1700.0 一致する？ True\n",
      "商品R min= 1800.0 max= 1800.0 一致する？ True\n",
      "商品S min= 1900.0 max= 1900.0 一致する？ True\n",
      "商品T min= 2000.0 max= 2000.0 一致する？ True\n",
      "商品U min= 2100.0 max= 2100.0 一致する？ True\n",
      "商品V min= 2200.0 max= 2200.0 一致する？ True\n",
      "商品W min= 2300.0 max= 2300.0 一致する？ True\n",
      "商品X min= 2400.0 max= 2400.0 一致する？ True\n",
      "商品Y min= 2500.0 max= 2500.0 一致する？ True\n",
      "商品Z min= 2600.0 max= 2600.0 一致する？ True\n"
     ]
    }
   ],
   "source": [
    "# さいごにチェック\n",
    "for name in uriage_data[\"item_name\"].sort_values().unique():\n",
    "    pricemin = uriage_data[uriage_data[\"item_name\"] == name] [\"item_price\"].min()\n",
    "    pricemax = uriage_data[uriage_data[\"item_name\"] == name] [\"item_price\"].max()\n",
    "    print(name, \"min=\", pricemin,  \"max=\", pricemax, \"一致する？\",  pricemin==pricemax)"
   ]
  },
  {
   "cell_type": "code",
   "execution_count": null,
   "metadata": {},
   "outputs": [],
   "source": []
  }
 ],
 "metadata": {
  "kernelspec": {
   "display_name": "Python 3",
   "language": "python",
   "name": "python3"
  },
  "language_info": {
   "codemirror_mode": {
    "name": "ipython",
    "version": 3
   },
   "file_extension": ".py",
   "mimetype": "text/x-python",
   "name": "python",
   "nbconvert_exporter": "python",
   "pygments_lexer": "ipython3",
   "version": "3.7.3"
  }
 },
 "nbformat": 4,
 "nbformat_minor": 4
}
